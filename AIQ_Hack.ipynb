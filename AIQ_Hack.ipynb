{
  "nbformat": 4,
  "nbformat_minor": 0,
  "metadata": {
    "colab": {
      "name": "AIQ Hack",
      "version": "0.3.2",
      "provenance": [],
      "collapsed_sections": [],
      "toc_visible": true,
      "include_colab_link": true
    },
    "kernelspec": {
      "name": "python3",
      "display_name": "Python 3"
    },
    "accelerator": "GPU"
  },
  "cells": [
    {
      "cell_type": "markdown",
      "metadata": {
        "id": "view-in-github",
        "colab_type": "text"
      },
      "source": [
        "[View in Colaboratory](https://colab.research.google.com/github/raduenuca/aiqhack-practice/blob/master/AIQ_Hack.ipynb)"
      ]
    },
    {
      "metadata": {
        "id": "a49e6lbikWTH",
        "colab_type": "text"
      },
      "cell_type": "markdown",
      "source": [
        "#Loading the MNIST dataset in Keras"
      ]
    },
    {
      "metadata": {
        "id": "CXCmZIoakuKl",
        "colab_type": "text"
      },
      "cell_type": "markdown",
      "source": [
        "## Import dependencies"
      ]
    },
    {
      "metadata": {
        "id": "lIWf7kz8kyZm",
        "colab_type": "code",
        "colab": {
          "base_uri": "https://localhost:8080/",
          "height": 34
        },
        "outputId": "54154ff4-5b6c-424e-b171-d3fba7c37b55"
      },
      "cell_type": "code",
      "source": [
        "import numpy as np\n",
        "import matplotlib.pyplot as plt\n",
        "%matplotlib inline\n",
        "\n",
        "from keras.datasets import mnist"
      ],
      "execution_count": 1,
      "outputs": [
        {
          "output_type": "stream",
          "text": [
            "Using TensorFlow backend.\n"
          ],
          "name": "stderr"
        }
      ]
    },
    {
      "metadata": {
        "id": "pEmG0Oc7n4WD",
        "colab_type": "text"
      },
      "cell_type": "markdown",
      "source": [
        "### Fix random seed for reproducibility"
      ]
    },
    {
      "metadata": {
        "id": "F1w5SaIVn4fp",
        "colab_type": "code",
        "colab": {}
      },
      "cell_type": "code",
      "source": [
        "seed = 666\n",
        "np.random.seed(seed)"
      ],
      "execution_count": 0,
      "outputs": []
    },
    {
      "metadata": {
        "id": "a0NwAFTXkh_l",
        "colab_type": "text"
      },
      "cell_type": "markdown",
      "source": [
        "## Load (downloaded if needed) the MNIST dataset"
      ]
    },
    {
      "metadata": {
        "id": "ZArYzFlxkOeg",
        "colab_type": "code",
        "colab": {}
      },
      "cell_type": "code",
      "source": [
        "(X_train, y_train), (X_test, y_test) = mnist.load_data()"
      ],
      "execution_count": 0,
      "outputs": []
    },
    {
      "metadata": {
        "id": "2UKOb80UlOAo",
        "colab_type": "text"
      },
      "cell_type": "markdown",
      "source": [
        "## Plot ad hoc mnist instances"
      ]
    },
    {
      "metadata": {
        "id": "qcXY93ojlSK8",
        "colab_type": "code",
        "colab": {
          "base_uri": "https://localhost:8080/",
          "height": 268
        },
        "outputId": "fdbd95a2-0f9a-443a-c94d-4800ced2ca4c"
      },
      "cell_type": "code",
      "source": [
        "# plot 4 images as gray scale\n",
        "plt.subplot(221)\n",
        "plt.axis('off')\n",
        "plt.imshow(X_train[0], cmap=plt.get_cmap('gray'))\n",
        "\n",
        "plt.subplot(222)\n",
        "plt.axis('off')\n",
        "plt.imshow(X_train[1], cmap=plt.get_cmap('gray'))\n",
        "\n",
        "plt.subplot(223)\n",
        "plt.axis('off')\n",
        "plt.imshow(X_train[2], cmap=plt.get_cmap('gray'))\n",
        "\n",
        "plt.subplot(224)\n",
        "plt.axis('off')\n",
        "plt.imshow(X_train[3], cmap=plt.get_cmap('gray'))\n",
        "\n",
        "# show the plot\n",
        "plt.show()"
      ],
      "execution_count": 4,
      "outputs": [
        {
          "output_type": "display_data",
          "data": {
            "image/png": "[encoded data removed]",
            "text/plain": [
              "<matplotlib.figure.Figure at 0x7f71b41f9748>"
            ]
          },
          "metadata": {
            "tags": []
          }
        }
      ]
    },
    {
      "metadata": {
        "id": "_2cfqRDaoYqA",
        "colab_type": "text"
      },
      "cell_type": "markdown",
      "source": [
        "# Simple Convolutional Neural Network for MNIST"
      ]
    },
    {
      "metadata": {
        "id": "LuKKB6SVobkH",
        "colab_type": "text"
      },
      "cell_type": "markdown",
      "source": [
        "## Import dependencies"
      ]
    },
    {
      "metadata": {
        "id": "BDQift5aob0h",
        "colab_type": "code",
        "colab": {}
      },
      "cell_type": "code",
      "source": [
        "from keras.models import Sequential\n",
        "from keras.layers import Dense\n",
        "from keras.layers import Dropout\n",
        "from keras.layers import Flatten\n",
        "from keras.layers.convolutional import Convolution2D\n",
        "from keras.layers.convolutional import MaxPooling2D\n",
        "from keras.callbacks import ModelCheckpoint\n",
        "\n",
        "from keras.utils import np_utils"
      ],
      "execution_count": 0,
      "outputs": []
    },
    {
      "metadata": {
        "id": "CIZdE4ovpO9v",
        "colab_type": "text"
      },
      "cell_type": "markdown",
      "source": [
        "## Prepare the dataset"
      ]
    },
    {
      "metadata": {
        "id": "TaPm6jDRorLf",
        "colab_type": "text"
      },
      "cell_type": "markdown",
      "source": [
        "### Reshape to be [samples][pixels][width][height]"
      ]
    },
    {
      "metadata": {
        "id": "GkiI_lpqozwf",
        "colab_type": "code",
        "colab": {}
      },
      "cell_type": "code",
      "source": [
        "X_train = X_train.reshape(X_train.shape[0], 28, 28, 1).astype('float32')\n",
        "X_test = X_test.reshape(X_test.shape[0], 28, 28, 1).astype('float32')"
      ],
      "execution_count": 0,
      "outputs": []
    },
    {
      "metadata": {
        "id": "AJggbgdao5N5",
        "colab_type": "text"
      },
      "cell_type": "markdown",
      "source": [
        "### Normalize inputs from 0-255 to 0-1"
      ]
    },
    {
      "metadata": {
        "id": "obP5sugJo-Xn",
        "colab_type": "code",
        "colab": {}
      },
      "cell_type": "code",
      "source": [
        "X_train /= 255\n",
        "X_test /= 255"
      ],
      "execution_count": 0,
      "outputs": []
    },
    {
      "metadata": {
        "id": "QmDKzrb2pBYX",
        "colab_type": "text"
      },
      "cell_type": "markdown",
      "source": [
        "### One hot encode outputs"
      ]
    },
    {
      "metadata": {
        "id": "2cDtOGnepD-v",
        "colab_type": "code",
        "colab": {}
      },
      "cell_type": "code",
      "source": [
        "y_train = np_utils.to_categorical(y_train)\n",
        "y_test = np_utils.to_categorical(y_test)\n",
        "\n",
        "num_classes = 10"
      ],
      "execution_count": 0,
      "outputs": []
    },
    {
      "metadata": {
        "id": "UIopXu9spSqG",
        "colab_type": "text"
      },
      "cell_type": "markdown",
      "source": [
        "## The model"
      ]
    },
    {
      "metadata": {
        "id": "bGYGgoSipkh2",
        "colab_type": "text"
      },
      "cell_type": "markdown",
      "source": [
        "### Create the model"
      ]
    },
    {
      "metadata": {
        "id": "5FFJvoumpUme",
        "colab_type": "code",
        "colab": {}
      },
      "cell_type": "code",
      "source": [
        "model = Sequential()\n",
        "model.add(Convolution2D(32, (5, 5), padding='valid', input_shape=(28, 28, 1), activation='relu'))\n",
        "model.add(MaxPooling2D(pool_size=(2, 2)))\n",
        "model.add(Dropout(0.2))\n",
        "model.add(Flatten())\n",
        "model.add(Dense(128, activation='relu'))\n",
        "model.add(Dense(num_classes, activation='softmax'))"
      ],
      "execution_count": 0,
      "outputs": []
    },
    {
      "metadata": {
        "id": "TDU4rM1ApzfI",
        "colab_type": "text"
      },
      "cell_type": "markdown",
      "source": [
        "### Compile the model"
      ]
    },
    {
      "metadata": {
        "id": "C1nS2oH7p1uN",
        "colab_type": "code",
        "colab": {}
      },
      "cell_type": "code",
      "source": [
        "\tmodel.compile(loss='categorical_crossentropy', optimizer='adam', metrics=['accuracy'])\t"
      ],
      "execution_count": 0,
      "outputs": []
    },
    {
      "metadata": {
        "id": "9hd29GVbp__-",
        "colab_type": "text"
      },
      "cell_type": "markdown",
      "source": [
        "### Create checkpoint"
      ]
    },
    {
      "metadata": {
        "id": "rXXxOlDoqBym",
        "colab_type": "code",
        "colab": {}
      },
      "cell_type": "code",
      "source": [
        "filepath=\"weights_best.hdf5\"\n",
        "checkpoint = ModelCheckpoint(filepath, monitor='val_acc', verbose=1, save_best_only=True, mode='max')"
      ],
      "execution_count": 0,
      "outputs": []
    },
    {
      "metadata": {
        "id": "EfG_FFfYqMxd",
        "colab_type": "text"
      },
      "cell_type": "markdown",
      "source": [
        "### Fit (train) the model"
      ]
    },
    {
      "metadata": {
        "id": "HIguebL5qQjN",
        "colab_type": "code",
        "colab": {
          "base_uri": "https://localhost:8080/",
          "height": 1411
        },
        "outputId": "02d262bc-dfd5-40d2-c4e3-db80acbb9ef3"
      },
      "cell_type": "code",
      "source": [
        "model.fit(X_train, \n",
        "          y_train, \n",
        "          validation_data=(X_test, y_test), \n",
        "          epochs=20, \n",
        "          batch_size=200, \n",
        "          callbacks = [checkpoint],\n",
        "          verbose=2)"
      ],
      "execution_count": 16,
      "outputs": [
        {
          "output_type": "stream",
          "text": [
            "Train on 60000 samples, validate on 10000 samples\n",
            "Epoch 1/20\n",
            " - 3s - loss: 0.2559 - acc: 0.9262 - val_loss: 0.0810 - val_acc: 0.9760\n",
            "\n",
            "Epoch 00001: val_acc improved from -inf to 0.97600, saving model to weights_best.hdf5\n",
            "Epoch 2/20\n",
            " - 3s - loss: 0.0751 - acc: 0.9775 - val_loss: 0.0473 - val_acc: 0.9850\n",
            "\n",
            "Epoch 00002: val_acc improved from 0.97600 to 0.98500, saving model to weights_best.hdf5\n",
            "Epoch 3/20\n",
            " - 3s - loss: 0.0523 - acc: 0.9847 - val_loss: 0.0448 - val_acc: 0.9862\n",
            "\n",
            "Epoch 00003: val_acc improved from 0.98500 to 0.98620, saving model to weights_best.hdf5\n",
            "Epoch 4/20\n",
            " - 3s - loss: 0.0417 - acc: 0.9870 - val_loss: 0.0401 - val_acc: 0.9868\n",
            "\n",
            "Epoch 00004: val_acc improved from 0.98620 to 0.98680, saving model to weights_best.hdf5\n",
            "Epoch 5/20\n",
            " - 3s - loss: 0.0333 - acc: 0.9896 - val_loss: 0.0416 - val_acc: 0.9859\n",
            "\n",
            "Epoch 00005: val_acc did not improve from 0.98680\n",
            "Epoch 6/20\n",
            " - 3s - loss: 0.0280 - acc: 0.9912 - val_loss: 0.0355 - val_acc: 0.9885\n",
            "\n",
            "Epoch 00006: val_acc improved from 0.98680 to 0.98850, saving model to weights_best.hdf5\n",
            "Epoch 7/20\n",
            " - 3s - loss: 0.0232 - acc: 0.9926 - val_loss: 0.0367 - val_acc: 0.9878\n",
            "\n",
            "Epoch 00007: val_acc did not improve from 0.98850\n",
            "Epoch 8/20\n",
            " - 3s - loss: 0.0198 - acc: 0.9935 - val_loss: 0.0312 - val_acc: 0.9899\n",
            "\n",
            "Epoch 00008: val_acc improved from 0.98850 to 0.98990, saving model to weights_best.hdf5\n",
            "Epoch 9/20\n",
            " - 3s - loss: 0.0170 - acc: 0.9946 - val_loss: 0.0348 - val_acc: 0.9893\n",
            "\n",
            "Epoch 00009: val_acc did not improve from 0.98990\n",
            "Epoch 10/20\n",
            " - 3s - loss: 0.0140 - acc: 0.9954 - val_loss: 0.0324 - val_acc: 0.9897\n",
            "\n",
            "Epoch 00010: val_acc did not improve from 0.98990\n",
            "Epoch 11/20\n",
            " - 3s - loss: 0.0135 - acc: 0.9953 - val_loss: 0.0339 - val_acc: 0.9890\n",
            "\n",
            "Epoch 00011: val_acc did not improve from 0.98990\n",
            "Epoch 12/20\n",
            " - 3s - loss: 0.0115 - acc: 0.9963 - val_loss: 0.0341 - val_acc: 0.9896\n",
            "\n",
            "Epoch 00012: val_acc did not improve from 0.98990\n",
            "Epoch 13/20\n",
            " - 3s - loss: 0.0098 - acc: 0.9969 - val_loss: 0.0312 - val_acc: 0.9903\n",
            "\n",
            "Epoch 00013: val_acc improved from 0.98990 to 0.99030, saving model to weights_best.hdf5\n",
            "Epoch 14/20\n",
            " - 3s - loss: 0.0080 - acc: 0.9974 - val_loss: 0.0329 - val_acc: 0.9901\n",
            "\n",
            "Epoch 00014: val_acc did not improve from 0.99030\n",
            "Epoch 15/20\n",
            " - 3s - loss: 0.0082 - acc: 0.9974 - val_loss: 0.0313 - val_acc: 0.9900\n",
            "\n",
            "Epoch 00015: val_acc did not improve from 0.99030\n",
            "Epoch 16/20\n",
            " - 3s - loss: 0.0078 - acc: 0.9975 - val_loss: 0.0357 - val_acc: 0.9896\n",
            "\n",
            "Epoch 00016: val_acc did not improve from 0.99030\n",
            "Epoch 17/20\n",
            " - 3s - loss: 0.0070 - acc: 0.9976 - val_loss: 0.0351 - val_acc: 0.9898\n",
            "\n",
            "Epoch 00017: val_acc did not improve from 0.99030\n",
            "Epoch 18/20\n",
            " - 3s - loss: 0.0054 - acc: 0.9983 - val_loss: 0.0335 - val_acc: 0.9898\n",
            "\n",
            "Epoch 00018: val_acc did not improve from 0.99030\n",
            "Epoch 19/20\n",
            " - 3s - loss: 0.0061 - acc: 0.9980 - val_loss: 0.0373 - val_acc: 0.9895\n",
            "\n",
            "Epoch 00019: val_acc did not improve from 0.99030\n",
            "Epoch 20/20\n",
            " - 3s - loss: 0.0070 - acc: 0.9977 - val_loss: 0.0350 - val_acc: 0.9908\n",
            "\n",
            "Epoch 00020: val_acc improved from 0.99030 to 0.99080, saving model to weights_best.hdf5\n"
          ],
          "name": "stdout"
        },
        {
          "output_type": "execute_result",
          "data": {
            "text/plain": [
              "<keras.callbacks.History at 0x7f71abb779b0>"
            ]
          },
          "metadata": {
            "tags": []
          },
          "execution_count": 16
        }
      ]
    },
    {
      "metadata": {
        "id": "d6s1Pi1OrEDF",
        "colab_type": "text"
      },
      "cell_type": "markdown",
      "source": [
        "### Load the best weights"
      ]
    },
    {
      "metadata": {
        "id": "GD7tL3kgrG5W",
        "colab_type": "code",
        "colab": {}
      },
      "cell_type": "code",
      "source": [
        "model.load_weights(filepath)"
      ],
      "execution_count": 0,
      "outputs": []
    },
    {
      "metadata": {
        "id": "JoOcBQPgqdKF",
        "colab_type": "text"
      },
      "cell_type": "markdown",
      "source": [
        "### Final evaluation of the model"
      ]
    },
    {
      "metadata": {
        "id": "oJ-plSBlqixG",
        "colab_type": "code",
        "colab": {
          "base_uri": "https://localhost:8080/",
          "height": 51
        },
        "outputId": "db8a0ce5-6b02-4674-c6ae-c9e554931a6f"
      },
      "cell_type": "code",
      "source": [
        "final_loss, final_acc = model.evaluate(X_test, y_test, verbose=1)\n",
        "print(\"Final loss: {0:.6f}, final accuracy: {1:.6f}\".format(final_loss, final_acc))  "
      ],
      "execution_count": 18,
      "outputs": [
        {
          "output_type": "stream",
          "text": [
            "10000/10000 [==============================] - 1s 69us/step\n",
            "Final loss: 0.034995, final accuracy: 0.990800\n"
          ],
          "name": "stdout"
        }
      ]
    },
    {
      "metadata": {
        "id": "ua76Dwkxrjfz",
        "colab_type": "text"
      },
      "cell_type": "markdown",
      "source": [
        "# Export to TensorFlowJs"
      ]
    },
    {
      "metadata": {
        "id": "lki_0qaLrokr",
        "colab_type": "text"
      },
      "cell_type": "markdown",
      "source": [
        "## Install dependencies"
      ]
    },
    {
      "metadata": {
        "id": "6-aoU3Gtr4HL",
        "colab_type": "code",
        "colab": {
          "base_uri": "https://localhost:8080/",
          "height": 391
        },
        "outputId": "401ab626-6c14-4e70-a56d-36811d7d1940"
      },
      "cell_type": "code",
      "source": [
        "!pip install tensorflowjs"
      ],
      "execution_count": 19,
      "outputs": [
        {
          "output_type": "stream",
          "text": [
            "Requirement already satisfied: tensorflowjs in /usr/local/lib/python3.6/dist-packages (0.6.4)\n",
            "Requirement already satisfied: keras==2.2.2 in /usr/local/lib/python3.6/dist-packages (from tensorflowjs) (2.2.2)\n",
            "Requirement already satisfied: six==1.11.0 in /usr/local/lib/python3.6/dist-packages (from tensorflowjs) (1.11.0)\n",
            "Requirement already satisfied: tensorflow-hub==0.1.1 in /usr/local/lib/python3.6/dist-packages (from tensorflowjs) (0.1.1)\n",
            "Requirement already satisfied: numpy==1.15.1 in /usr/local/lib/python3.6/dist-packages (from tensorflowjs) (1.15.1)\n",
            "Requirement already satisfied: tensorflow==1.11.0 in /usr/local/lib/python3.6/dist-packages (from tensorflowjs) (1.11.0)\n",
            "Requirement already satisfied: h5py==2.8.0 in /usr/local/lib/python3.6/dist-packages (from tensorflowjs) (2.8.0)\n",
            "Requirement already satisfied: pyyaml in /usr/local/lib/python3.6/dist-packages (from keras==2.2.2->tensorflowjs) (3.13)\n",
            "Requirement already satisfied: keras-applications==1.0.4 in /usr/local/lib/python3.6/dist-packages (from keras==2.2.2->tensorflowjs) (1.0.4)\n",
            "Requirement already satisfied: scipy>=0.14 in /usr/local/lib/python3.6/dist-packages (from keras==2.2.2->tensorflowjs) (0.19.1)\n",
            "Requirement already satisfied: keras-preprocessing==1.0.2 in /usr/local/lib/python3.6/dist-packages (from keras==2.2.2->tensorflowjs) (1.0.2)\n",
            "Requirement already satisfied: protobuf>=3.4.0 in /usr/local/lib/python3.6/dist-packages (from tensorflow-hub==0.1.1->tensorflowjs) (3.6.1)\n",
            "Requirement already satisfied: astor>=0.6.0 in /usr/local/lib/python3.6/dist-packages (from tensorflow==1.11.0->tensorflowjs) (0.7.1)\n",
            "Requirement already satisfied: tensorboard<1.12.0,>=1.11.0 in /usr/local/lib/python3.6/dist-packages (from tensorflow==1.11.0->tensorflowjs) (1.11.0)\n",
            "Requirement already satisfied: absl-py>=0.1.6 in /usr/local/lib/python3.6/dist-packages (from tensorflow==1.11.0->tensorflowjs) (0.5.0)\n",
            "Requirement already satisfied: gast>=0.2.0 in /usr/local/lib/python3.6/dist-packages (from tensorflow==1.11.0->tensorflowjs) (0.2.0)\n",
            "Requirement already satisfied: termcolor>=1.1.0 in /usr/local/lib/python3.6/dist-packages (from tensorflow==1.11.0->tensorflowjs) (1.1.0)\n",
            "Requirement already satisfied: setuptools<=39.1.0 in /usr/local/lib/python3.6/dist-packages (from tensorflow==1.11.0->tensorflowjs) (39.1.0)\n",
            "Requirement already satisfied: grpcio>=1.8.6 in /usr/local/lib/python3.6/dist-packages (from tensorflow==1.11.0->tensorflowjs) (1.15.0)\n",
            "Requirement already satisfied: wheel>=0.26 in /usr/local/lib/python3.6/dist-packages (from tensorflow==1.11.0->tensorflowjs) (0.32.1)\n",
            "Requirement already satisfied: werkzeug>=0.11.10 in /usr/local/lib/python3.6/dist-packages (from tensorboard<1.12.0,>=1.11.0->tensorflow==1.11.0->tensorflowjs) (0.14.1)\n",
            "Requirement already satisfied: markdown>=2.6.8 in /usr/local/lib/python3.6/dist-packages (from tensorboard<1.12.0,>=1.11.0->tensorflow==1.11.0->tensorflowjs) (3.0.1)\n"
          ],
          "name": "stdout"
        }
      ]
    },
    {
      "metadata": {
        "id": "zXfQjTQes6Ma",
        "colab_type": "text"
      },
      "cell_type": "markdown",
      "source": [
        "## Convert to TensorFlowJs"
      ]
    },
    {
      "metadata": {
        "id": "fgPzyAkLt6RI",
        "colab_type": "text"
      },
      "cell_type": "markdown",
      "source": [
        "### Using command line"
      ]
    },
    {
      "metadata": {
        "id": "hEec82ydrwXz",
        "colab_type": "code",
        "colab": {
          "base_uri": "https://localhost:8080/",
          "height": 34
        },
        "outputId": "119f44fc-2992-42a9-e768-679363322b6c"
      },
      "cell_type": "code",
      "source": [
        "!tensorflowjs_converter --input_format=keras {filepath} mnist_tfjs_model"
      ],
      "execution_count": 44,
      "outputs": [
        {
          "output_type": "stream",
          "text": [
            "Using TensorFlow backend.\n"
          ],
          "name": "stdout"
        }
      ]
    },
    {
      "metadata": {
        "id": "mmCNG5J-t9Bv",
        "colab_type": "text"
      },
      "cell_type": "markdown",
      "source": [
        "### Use Python"
      ]
    },
    {
      "metadata": {
        "id": "XHocnKA-t_kH",
        "colab_type": "code",
        "colab": {}
      },
      "cell_type": "code",
      "source": [
        "import tensorflowjs as tfjs\n",
        "tfjs.converters.save_keras_model(model, 'mnist_tfjs_model')"
      ],
      "execution_count": 0,
      "outputs": []
    },
    {
      "metadata": {
        "id": "L8DVk-zrs9c5",
        "colab_type": "text"
      },
      "cell_type": "markdown",
      "source": [
        "## Download the TensorFlowJs model"
      ]
    },
    {
      "metadata": {
        "id": "pgQ7tqyAuwKW",
        "colab_type": "code",
        "colab": {
          "base_uri": "https://localhost:8080/",
          "height": 68
        },
        "outputId": "033543a0-29e3-4d26-a140-cb59187f9e49"
      },
      "cell_type": "code",
      "source": [
        "!zip -r model.zip mnist_tfjs_model"
      ],
      "execution_count": 21,
      "outputs": [
        {
          "output_type": "stream",
          "text": [
            "updating: mnist_tfjs_model/ (stored 0%)\n",
            "updating: mnist_tfjs_model/model.json (deflated 74%)\n",
            "updating: mnist_tfjs_model/group1-shard1of1 (deflated 7%)\n"
          ],
          "name": "stdout"
        }
      ]
    },
    {
      "metadata": {
        "id": "FnmNI6UJs_6J",
        "colab_type": "code",
        "colab": {}
      },
      "cell_type": "code",
      "source": [
        "from google.colab import files\n",
        "\n",
        "files.download('model.zip')"
      ],
      "execution_count": 0,
      "outputs": []
    }
  ]
}